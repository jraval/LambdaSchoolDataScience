{
  "nbformat": 4,
  "nbformat_minor": 0,
  "metadata": {
    "kernelspec": {
      "display_name": "Python 3",
      "language": "python",
      "name": "python3"
    },
    "language_info": {
      "codemirror_mode": {
        "name": "ipython",
        "version": 3
      },
      "file_extension": ".py",
      "mimetype": "text/x-python",
      "name": "python",
      "nbconvert_exporter": "python",
      "pygments_lexer": "ipython3",
      "version": "3.7.3"
    },
    "colab": {
      "name": "DSPT10_1_31_21_Copy of LS_DS_222_assignment.ipynb",
      "provenance": [],
      "collapsed_sections": [],
      "include_colab_link": true
    }
  },
  "cells": [
    {
      "cell_type": "markdown",
      "metadata": {
        "id": "view-in-github",
        "colab_type": "text"
      },
      "source": [
        "<a href=\"https://colab.research.google.com/github/jraval/LambdaSchoolDataScience/blob/master/DSPT10_1_31_21_Copy_of_LS_DS_222_assignment.ipynb\" target=\"_parent\"><img src=\"https://colab.research.google.com/assets/colab-badge.svg\" alt=\"Open In Colab\"/></a>"
      ]
    },
    {
      "cell_type": "markdown",
      "metadata": {
        "id": "EFjdDHXiUtQD"
      },
      "source": [
        "Lambda School Data Science\n",
        "\n",
        "*Unit 2, Sprint 2, Module 2*\n",
        "\n",
        "---"
      ]
    },
    {
      "cell_type": "markdown",
      "metadata": {
        "id": "7IXUfiQ2UKj6"
      },
      "source": [
        "# Random Forests\n",
        "\n",
        "## Assignment\n",
        "- [ ] Read [“Adopting a Hypothesis-Driven Workflow”](http://archive.is/Nu3EI), a blog post by a Lambda DS student about the Tanzania Waterpumps challenge.\n",
        "- [ ] Continue to participate in our Kaggle challenge.\n",
        "- [ ] Define a function to wrangle train, validate, and test sets in the same way. Clean outliers and engineer features.\n",
        "- [ ] Try Ordinal Encoding.\n",
        "- [ ] Try a Random Forest Classifier.\n",
        "- [ ] Submit your predictions to our Kaggle competition. (Go to our Kaggle InClass competition webpage. Use the blue **Submit Predictions** button to upload your CSV file. Or you can use the Kaggle API to submit your predictions.)\n",
        "- [ ] Commit your notebook to your fork of the GitHub repo.\n",
        "\n",
        "## Stretch Goals\n",
        "\n",
        "### Doing\n",
        "- [ ] Add your own stretch goal(s) !\n",
        "- [ ] Do more exploratory data analysis, data cleaning, feature engineering, and feature selection.\n",
        "- [ ] Try other [categorical encodings](https://contrib.scikit-learn.org/category_encoders/).\n",
        "- [ ] Get and plot your feature importances.\n",
        "- [ ] Make visualizations and share on Slack.\n",
        "\n",
        "### Reading\n",
        "\n",
        "Top recommendations in _**bold italic:**_\n",
        "\n",
        "#### Decision Trees\n",
        "- A Visual Introduction to Machine Learning, [Part 1: A Decision Tree](http://www.r2d3.us/visual-intro-to-machine-learning-part-1/),  and _**[Part 2: Bias and Variance](http://www.r2d3.us/visual-intro-to-machine-learning-part-2/)**_\n",
        "- [Decision Trees: Advantages & Disadvantages](https://christophm.github.io/interpretable-ml-book/tree.html#advantages-2)\n",
        "- [How a Russian mathematician constructed a decision tree — by hand — to solve a medical problem](http://fastml.com/how-a-russian-mathematician-constructed-a-decision-tree-by-hand-to-solve-a-medical-problem/)\n",
        "- [How decision trees work](https://brohrer.github.io/how_decision_trees_work.html)\n",
        "- [Let’s Write a Decision Tree Classifier from Scratch](https://www.youtube.com/watch?v=LDRbO9a6XPU)\n",
        "\n",
        "#### Random Forests\n",
        "- [_An Introduction to Statistical Learning_](http://www-bcf.usc.edu/~gareth/ISL/), Chapter 8: Tree-Based Methods\n",
        "- [Coloring with Random Forests](http://structuringtheunstructured.blogspot.com/2017/11/coloring-with-random-forests.html)\n",
        "- _**[Random Forests for Complete Beginners: The definitive guide to Random Forests and Decision Trees](https://victorzhou.com/blog/intro-to-random-forests/)**_\n",
        "\n",
        "#### Categorical encoding for trees\n",
        "- [Are categorical variables getting lost in your random forests?](https://roamanalytics.com/2016/10/28/are-categorical-variables-getting-lost-in-your-random-forests/)\n",
        "- [Beyond One-Hot: An Exploration of Categorical Variables](http://www.willmcginnis.com/2015/11/29/beyond-one-hot-an-exploration-of-categorical-variables/)\n",
        "- _**[Categorical Features and Encoding in Decision Trees](https://medium.com/data-design/visiting-categorical-features-and-encoding-in-decision-trees-53400fa65931)**_\n",
        "- _**[Coursera — How to Win a Data Science Competition: Learn from Top Kagglers — Concept of mean encoding](https://www.coursera.org/lecture/competitive-data-science/concept-of-mean-encoding-b5Gxv)**_\n",
        "- [Mean (likelihood) encodings: a comprehensive study](https://www.kaggle.com/vprokopev/mean-likelihood-encodings-a-comprehensive-study)\n",
        "- [The Mechanics of Machine Learning, Chapter 6: Categorically Speaking](https://mlbook.explained.ai/catvars.html)\n",
        "\n",
        "#### Imposter Syndrome\n",
        "- [Effort Shock and Reward Shock (How The Karate Kid Ruined The Modern World)](http://www.tempobook.com/2014/07/09/effort-shock-and-reward-shock/)\n",
        "- [How to manage impostor syndrome in data science](https://towardsdatascience.com/how-to-manage-impostor-syndrome-in-data-science-ad814809f068)\n",
        "- [\"I am not a real data scientist\"](https://brohrer.github.io/imposter_syndrome.html)\n",
        "- _**[Imposter Syndrome in Data Science](https://caitlinhudon.com/2018/01/19/imposter-syndrome-in-data-science/)**_\n",
        "\n",
        "\n",
        "### More Categorical Encodings\n",
        "\n",
        "**1.** The article **[Categorical Features and Encoding in Decision Trees](https://medium.com/data-design/visiting-categorical-features-and-encoding-in-decision-trees-53400fa65931)** mentions 4 encodings:\n",
        "\n",
        "- **\"Categorical Encoding\":** This means using the raw categorical values as-is, not encoded. Scikit-learn doesn't support this, but some tree algorithm implementations do. For example, [Catboost](https://catboost.ai/), or R's [rpart](https://cran.r-project.org/web/packages/rpart/index.html) package.\n",
        "- **Numeric Encoding:** Synonymous with Label Encoding, or \"Ordinal\" Encoding with random order. We can use [category_encoders.OrdinalEncoder](https://contrib.scikit-learn.org/category_encoders/ordinal.html).\n",
        "- **One-Hot Encoding:** We can use [category_encoders.OneHotEncoder](https://contrib.scikit-learn.org/category_encoders/onehot.html).\n",
        "- **Binary Encoding:** We can use [category_encoders.BinaryEncoder](https://contrib.scikit-learn.org/category_encoders/binary.html).\n",
        "\n",
        "\n",
        "**2.** The short video \n",
        "**[Coursera — How to Win a Data Science Competition: Learn from Top Kagglers — Concept of mean encoding](https://www.coursera.org/lecture/competitive-data-science/concept-of-mean-encoding-b5Gxv)** introduces an interesting idea: use both X _and_ y to encode categoricals.\n",
        "\n",
        "Category Encoders has multiple implementations of this general concept:\n",
        "\n",
        "- [CatBoost Encoder](https://contrib.scikit-learn.org/category_encoders/catboost.html)\n",
        "- [Generalized Linear Mixed Model Encoder](https://contrib.scikit-learn.org/category_encoders/glmm.html)\n",
        "- [James-Stein Encoder](https://contrib.scikit-learn.org/category_encoders/jamesstein.html)\n",
        "- [Leave One Out](https://contrib.scikit-learn.org/category_encoders/leaveoneout.html)\n",
        "- [M-estimate](https://contrib.scikit-learn.org/category_encoders/mestimate.html)\n",
        "- [Target Encoder](https://contrib.scikit-learn.org/category_encoders/targetencoder.html)\n",
        "- [Weight of Evidence](https://contrib.scikit-learn.org/category_encoders/woe.html)\n",
        "\n",
        "Category Encoder's mean encoding implementations work for regression problems or binary classification problems. \n",
        "\n",
        "For multi-class classification problems, you will need to temporarily reformulate it as binary classification. For example:\n",
        "\n",
        "```python\n",
        "encoder = ce.TargetEncoder(min_samples_leaf=..., smoothing=...) # Both parameters > 1 to avoid overfitting\n",
        "X_train_encoded = encoder.fit_transform(X_train, y_train=='functional')\n",
        "X_val_encoded = encoder.transform(X_train, y_val=='functional')\n",
        "```\n",
        "\n",
        "For this reason, mean encoding won't work well within pipelines for multi-class classification problems.\n",
        "\n",
        "**3.** The **[dirty_cat](https://dirty-cat.github.io/stable/)** library has a Target Encoder implementation that works with multi-class classification.\n",
        "\n",
        "```python\n",
        " dirty_cat.TargetEncoder(clf_type='multiclass-clf')\n",
        "```\n",
        "It also implements an interesting idea called [\"Similarity Encoder\" for dirty categories](https://www.slideshare.net/GaelVaroquaux/machine-learning-on-non-curated-data-154905090).\n",
        "\n",
        "However, it seems like dirty_cat doesn't handle missing values or unknown categories as well as category_encoders does. And you may need to use it with one column at a time, instead of with your whole dataframe.\n",
        "\n",
        "**4. [Embeddings](https://www.kaggle.com/colinmorris/embedding-layers)** can work well with sparse / high cardinality categoricals.\n",
        "\n",
        "_**I hope it’s not too frustrating or confusing that there’s not one “canonical” way to encode categoricals. It’s an active area of research and experimentation — maybe you can make your own contributions!**_"
      ]
    },
    {
      "cell_type": "markdown",
      "metadata": {
        "id": "m2GFfuFLUtQL"
      },
      "source": [
        "### Setup\n",
        "\n",
        "You can work locally (follow the [local setup instructions](https://lambdaschool.github.io/ds/unit2/local/)) or on Colab (run the code cell below)."
      ]
    },
    {
      "cell_type": "code",
      "metadata": {
        "id": "o9eSnDYhUGD7"
      },
      "source": [
        "%%capture\n",
        "import sys\n",
        "\n",
        "# If you're on Colab:\n",
        "if 'google.colab' in sys.modules:\n",
        "    DATA_PATH = 'https://raw.githubusercontent.com/LambdaSchool/DS-Unit-2-Kaggle-Challenge/master/data/'\n",
        "    !pip install category_encoders==2.*\n",
        "\n",
        "# If you're working locally:\n",
        "else:\n",
        "    DATA_PATH = '../data/'"
      ],
      "execution_count": 128,
      "outputs": []
    },
    {
      "cell_type": "code",
      "metadata": {
        "colab": {
          "base_uri": "https://localhost:8080/"
        },
        "id": "zf48eDagdxYO",
        "outputId": "4265b165-12af-4720-acb1-23cc4a19cca4"
      },
      "source": [
        "!pip install dirty_cat"
      ],
      "execution_count": 129,
      "outputs": [
        {
          "output_type": "stream",
          "text": [
            "Requirement already satisfied: dirty_cat in /root/.local/lib/python3.6/site-packages (0.0.7)\n",
            "Requirement already satisfied: scipy in /usr/local/lib/python3.6/dist-packages (from dirty_cat) (1.4.1)\n",
            "Requirement already satisfied: scikit-learn>=0.20 in /usr/local/lib/python3.6/dist-packages (from dirty_cat) (0.22.2.post1)\n",
            "Requirement already satisfied: joblib in /usr/local/lib/python3.6/dist-packages (from dirty_cat) (1.0.0)\n",
            "Requirement already satisfied: requests in /usr/local/lib/python3.6/dist-packages (from dirty_cat) (2.23.0)\n",
            "Requirement already satisfied: numpy in /usr/local/lib/python3.6/dist-packages (from dirty_cat) (1.19.5)\n",
            "Requirement already satisfied: certifi>=2017.4.17 in /usr/local/lib/python3.6/dist-packages (from requests->dirty_cat) (2020.12.5)\n",
            "Requirement already satisfied: idna<3,>=2.5 in /usr/local/lib/python3.6/dist-packages (from requests->dirty_cat) (2.10)\n",
            "Requirement already satisfied: urllib3!=1.25.0,!=1.25.1,<1.26,>=1.21.1 in /usr/local/lib/python3.6/dist-packages (from requests->dirty_cat) (1.24.3)\n",
            "Requirement already satisfied: chardet<4,>=3.0.2 in /usr/local/lib/python3.6/dist-packages (from requests->dirty_cat) (3.0.4)\n"
          ],
          "name": "stdout"
        }
      ]
    },
    {
      "cell_type": "code",
      "metadata": {
        "id": "QJBD4ruICm1m",
        "colab": {
          "base_uri": "https://localhost:8080/"
        },
        "outputId": "db414bd4-66e6-4644-e0a2-eac3041b29ea"
      },
      "source": [
        "import pandas as pd\n",
        "from sklearn.model_selection import train_test_split\n",
        "\n",
        "train = pd.merge(pd.read_csv(DATA_PATH+'waterpumps/train_features.csv'), \n",
        "                 pd.read_csv(DATA_PATH+'waterpumps/train_labels.csv'))\n",
        "test = pd.read_csv(DATA_PATH+'waterpumps/test_features.csv')\n",
        "sample_submission = pd.read_csv(DATA_PATH+'waterpumps/sample_submission.csv')\n",
        "\n",
        "train.shape, test.shape"
      ],
      "execution_count": 130,
      "outputs": [
        {
          "output_type": "execute_result",
          "data": {
            "text/plain": [
              "((59400, 41), (14358, 40))"
            ]
          },
          "metadata": {
            "tags": []
          },
          "execution_count": 130
        }
      ]
    },
    {
      "cell_type": "code",
      "metadata": {
        "colab": {
          "base_uri": "https://localhost:8080/"
        },
        "id": "4JI8xm-CnHu4",
        "outputId": "41026272-c31f-4d5c-85df-436fab0a6b10"
      },
      "source": [
        "train.columns#Any duplicates or similar sounding columns?"
      ],
      "execution_count": 131,
      "outputs": [
        {
          "output_type": "execute_result",
          "data": {
            "text/plain": [
              "Index(['id', 'amount_tsh', 'date_recorded', 'funder', 'gps_height',\n",
              "       'installer', 'longitude', 'latitude', 'wpt_name', 'num_private',\n",
              "       'basin', 'subvillage', 'region', 'region_code', 'district_code', 'lga',\n",
              "       'ward', 'population', 'public_meeting', 'recorded_by',\n",
              "       'scheme_management', 'scheme_name', 'permit', 'construction_year',\n",
              "       'extraction_type', 'extraction_type_group', 'extraction_type_class',\n",
              "       'management', 'management_group', 'payment', 'payment_type',\n",
              "       'water_quality', 'quality_group', 'quantity', 'quantity_group',\n",
              "       'source', 'source_type', 'source_class', 'waterpoint_type',\n",
              "       'waterpoint_type_group', 'status_group'],\n",
              "      dtype='object')"
            ]
          },
          "metadata": {
            "tags": []
          },
          "execution_count": 131
        }
      ]
    },
    {
      "cell_type": "code",
      "metadata": {
        "id": "yAB9ne7IobEd"
      },
      "source": [
        "#train.set_index('id', inplace = True) #Not needed due to wrangle function"
      ],
      "execution_count": 132,
      "outputs": []
    },
    {
      "cell_type": "code",
      "metadata": {
        "id": "vAv78SVGUtQM"
      },
      "source": [
        "from sklearn.pipeline import make_pipeline\r\n",
        "import category_encoders as ce\r\n",
        "from sklearn.impute import SimpleImputer\r\n",
        "from sklearn.feature_extraction.text import CountVectorizer\r\n",
        "from sklearn.ensemble import RandomForestClassifier\r\n",
        "from sklearn.preprocessing import StandardScaler\r\n",
        "from sklearn.model_selection import train_test_split\r\n",
        "from category_encoders import TargetEncoder\r\n",
        "\r\n",
        "\r\n",
        "\r\n",
        "cv = CountVectorizer().fit(train)#May use dirty_cat encoder later on."
      ],
      "execution_count": 133,
      "outputs": []
    },
    {
      "cell_type": "code",
      "metadata": {
        "id": "LEl3ADld14jr"
      },
      "source": [
        "#Split train and val\r\n",
        "train, val = train_test_split(train, train_size = 0.8, test_size =0.2,\r\n",
        "                              stratify=train['status_group'], random_state = 42)"
      ],
      "execution_count": 134,
      "outputs": []
    },
    {
      "cell_type": "code",
      "metadata": {
        "id": "9ZFxae0wqZ0G"
      },
      "source": [
        "\"\"\"Wrangle train, validate, and test sets in the same way\"\"\"\r\n",
        "def wrangle():\r\n",
        "  #Prevent setting with copy warning\r\n",
        "  X = X.copy()\r\n",
        "  #About 3 percent of the time latitude has small values near zero outside Tanzania, so we'll treat those values as zero.\r\n",
        "  X['latitude'] = X['latitude'].replace(-2e-08, 0)\r\n",
        "\r\n",
        "  #When columns have zeros and shouldn't they should be replaced with NaNs because \r\n",
        "  #they are like null values.  We replace zeros with nulls and impute missing values \r\n",
        "  #later.  We also create a \"missing indicator\" column, because the fact the values\r\n",
        "  #may be missing could be a predictive signal.\r\n",
        "\r\n",
        "  for col in cols_with_zeros:\r\n",
        "    X[col] = X[col].replace(0,np.nan)\r\n",
        "    X[col+'_MISSING'] = X[col].isnull()\r\n",
        "\r\n",
        "    #Drop duplicate columns\r\n",
        "    duplicates = ['quantity_group', 'payment_type']\r\n",
        "    X = X.drop(columns=duplicates)\r\n",
        "\r\n",
        "    #Drop recorded_by (never varies) and id (always varies, random)\r\n",
        "    unusable_variance = ['recorded_by', 'id']\r\n",
        "    X = X.drop(columns = unusable_variance)\r\n",
        "\r\n",
        "    #Convert date recorded to datetime\r\n",
        "    X['date_recorded'] = pd.to_datetime(X['date_recorded'], infer_datetime_format=True)\r\n",
        "\r\n",
        "    #Extract components from date_recorded then drop the original column\r\n",
        "    X['year_recorded'] = X['date_recorded'].dt.year\r\n",
        "    X['month_recorded'] = X['date_recorded'].dt.month\r\n",
        "    X['day_recorded'] = X['date_recorded'].dt.day\r\n",
        "    X = X.drop['date_recorded']\r\n",
        "\r\n",
        "    #Engineer feature, how many years from date of construction to date recorded?\r\n",
        "    X['years'] = X['year_recorded'] - X['construction_year']\r\n",
        "    X['years_MISSING'] = X['years'].isnull()\r\n",
        "    #return the wrangled dataframe\r\n",
        "    return X\r\n",
        "\r\n",
        "    train = wrangle(train)\r\n",
        "    val = wrangle(val)\r\n",
        "    test = wrangle(test)"
      ],
      "execution_count": 135,
      "outputs": []
    },
    {
      "cell_type": "code",
      "metadata": {
        "id": "DTlGwYh45JCB"
      },
      "source": [
        "#status_group = target\r\n",
        "target = 'status_group'\r\n",
        "\r\n",
        "#train features\r\n",
        "train_features = train.drop(columns=[target])\r\n",
        "#Get a list of the numerical features\r\n",
        "numerical_features = train_features.select_dtypes(include='number').columns.tolist()\r\n",
        "#Get a series with the cardinality of the nonnumeric features\r\n",
        "cardinality = train_features.select_dtypes(exclude='number').nunique()\r\n",
        "\r\n",
        "#Categorical features - Get a list with cardinality <=50\r\n",
        "categorical_features = cardinality[cardinality<=50].index.tolist()\r\n",
        "\r\n",
        "features = numerical_features + categorical_features"
      ],
      "execution_count": 136,
      "outputs": []
    },
    {
      "cell_type": "code",
      "metadata": {
        "id": "_Q6KxwfCsZ-l"
      },
      "source": [
        "#Create Feature Matrix\r\n",
        "X_train = train[features]\r\n",
        "X_val = val[features]\r\n",
        "X_test = test[features]\r\n",
        "y_train = train[target]\r\n",
        "y_val = val[target]"
      ],
      "execution_count": 137,
      "outputs": []
    },
    {
      "cell_type": "code",
      "metadata": {
        "colab": {
          "base_uri": "https://localhost:8080/"
        },
        "id": "r0sk5-QMsJn1",
        "outputId": "bbc9f87f-b702-4630-d754-5658361c4acd"
      },
      "source": [
        "#Create model/pipeline\r\n",
        "pipeline = make_pipeline(\r\n",
        "    ce.OrdinalEncoder(),\r\n",
        "    SimpleImputer(strategy='median'),\r\n",
        "    StandardScaler(),\r\n",
        "    RandomForestClassifier(random_state=42, n_jobs=-1, max_depth=16, max_leaf_nodes=1000)    \r\n",
        ")\r\n",
        "#Fit my pipeline/model\r\n",
        "pipeline.fit(X_train, y_train)"
      ],
      "execution_count": 138,
      "outputs": [
        {
          "output_type": "execute_result",
          "data": {
            "text/plain": [
              "Pipeline(memory=None,\n",
              "         steps=[('ordinalencoder',\n",
              "                 OrdinalEncoder(cols=['basin', 'region', 'public_meeting',\n",
              "                                      'recorded_by', 'scheme_management',\n",
              "                                      'permit', 'extraction_type',\n",
              "                                      'extraction_type_group',\n",
              "                                      'extraction_type_class', 'management',\n",
              "                                      'management_group', 'payment',\n",
              "                                      'payment_type', 'water_quality',\n",
              "                                      'quality_group', 'quantity',\n",
              "                                      'quantity_group', 'source', 'source_type',...\n",
              "                 RandomForestClassifier(bootstrap=True, ccp_alpha=0.0,\n",
              "                                        class_weight=None, criterion='gini',\n",
              "                                        max_depth=16, max_features='auto',\n",
              "                                        max_leaf_nodes=1000, max_samples=None,\n",
              "                                        min_impurity_decrease=0.0,\n",
              "                                        min_impurity_split=None,\n",
              "                                        min_samples_leaf=1, min_samples_split=2,\n",
              "                                        min_weight_fraction_leaf=0.0,\n",
              "                                        n_estimators=100, n_jobs=-1,\n",
              "                                        oob_score=False, random_state=42,\n",
              "                                        verbose=0, warm_start=False))],\n",
              "         verbose=False)"
            ]
          },
          "metadata": {
            "tags": []
          },
          "execution_count": 138
        }
      ]
    },
    {
      "cell_type": "code",
      "metadata": {
        "colab": {
          "base_uri": "https://localhost:8080/"
        },
        "id": "XbmQ7klB8fEe",
        "outputId": "00cee7b0-0e0b-4452-c0be-45bc59808740"
      },
      "source": [
        "print('Train Accuracy',pipeline.score(X_train,y_train))\r\n",
        "print('Val Accuracy',pipeline.score(X_val,y_val))"
      ],
      "execution_count": 139,
      "outputs": [
        {
          "output_type": "stream",
          "text": [
            "Train Accuracy 0.8298611111111112\n",
            "Val Accuracy 0.7927609427609428\n"
          ],
          "name": "stdout"
        }
      ]
    },
    {
      "cell_type": "code",
      "metadata": {
        "colab": {
          "base_uri": "https://localhost:8080/"
        },
        "id": "14wJMNmROfLs",
        "outputId": "a24acce7-de3d-44df-b6f2-83045d5496ea"
      },
      "source": [
        "pipeline.steps"
      ],
      "execution_count": 140,
      "outputs": [
        {
          "output_type": "execute_result",
          "data": {
            "text/plain": [
              "[('ordinalencoder',\n",
              "  OrdinalEncoder(cols=['basin', 'region', 'public_meeting', 'recorded_by',\n",
              "                       'scheme_management', 'permit', 'extraction_type',\n",
              "                       'extraction_type_group', 'extraction_type_class',\n",
              "                       'management', 'management_group', 'payment',\n",
              "                       'payment_type', 'water_quality', 'quality_group',\n",
              "                       'quantity', 'quantity_group', 'source', 'source_type',\n",
              "                       'source_class', 'waterpoint_type',\n",
              "                       'waterpoint_t...\n",
              "  dtype: int64},\n",
              "                          {'col': 'waterpoint_type', 'data_type': dtype('O'),\n",
              "                           'mapping': communal standpipe             1\n",
              "  hand pump                      2\n",
              "  other                          3\n",
              "  communal standpipe multiple    4\n",
              "  improved spring                5\n",
              "  cattle trough                  6\n",
              "  dam                            7\n",
              "  NaN                           -2\n",
              "  dtype: int64},\n",
              "                          {'col': 'waterpoint_type_group',\n",
              "                           'data_type': dtype('O'),\n",
              "                           'mapping': communal standpipe    1\n",
              "  hand pump             2\n",
              "  other                 3\n",
              "  improved spring       4\n",
              "  cattle trough         5\n",
              "  dam                   6\n",
              "  NaN                  -2\n",
              "  dtype: int64}],\n",
              "                 return_df=True, verbose=0)),\n",
              " ('simpleimputer',\n",
              "  SimpleImputer(add_indicator=False, copy=True, fill_value=None,\n",
              "                missing_values=nan, strategy='median', verbose=0)),\n",
              " ('standardscaler', StandardScaler(copy=True, with_mean=True, with_std=True)),\n",
              " ('randomforestclassifier',\n",
              "  RandomForestClassifier(bootstrap=True, ccp_alpha=0.0, class_weight=None,\n",
              "                         criterion='gini', max_depth=16, max_features='auto',\n",
              "                         max_leaf_nodes=1000, max_samples=None,\n",
              "                         min_impurity_decrease=0.0, min_impurity_split=None,\n",
              "                         min_samples_leaf=1, min_samples_split=2,\n",
              "                         min_weight_fraction_leaf=0.0, n_estimators=100,\n",
              "                         n_jobs=-1, oob_score=False, random_state=42, verbose=0,\n",
              "                         warm_start=False))]"
            ]
          },
          "metadata": {
            "tags": []
          },
          "execution_count": 140
        }
      ]
    },
    {
      "cell_type": "code",
      "metadata": {
        "id": "0gANQlesOoAn"
      },
      "source": [
        "model = pipeline #Needed this for my assertions pipeline is essentially model"
      ],
      "execution_count": 141,
      "outputs": []
    },
    {
      "cell_type": "code",
      "metadata": {
        "id": "_rzGOUfVOhIj"
      },
      "source": [
        "'''Task Testing Pipeline'''\r\n",
        "\r\n",
        "assert len(model) > 1, 'Your model pipeline should have multiple steps.'\r\n",
        "assert isinstance(model[-1], RandomForestClassifier), 'Your pipline should end in a `DecisionTreeClassifier`.'\r\n",
        "assert hasattr(model, 'classes_'), 'Have you fit your model?'"
      ],
      "execution_count": 142,
      "outputs": []
    },
    {
      "cell_type": "markdown",
      "metadata": {
        "id": "znjAcpH2O8L-"
      },
      "source": [
        "Task Testing Metrics"
      ]
    },
    {
      "cell_type": "code",
      "metadata": {
        "colab": {
          "base_uri": "https://localhost:8080/"
        },
        "id": "SLvaDV3yO7Si",
        "outputId": "9c31e511-4dd6-4ec9-e62f-58dc989a4379"
      },
      "source": [
        "# YOUR CODE HERE\r\n",
        "training_acc = model.score(X_train, y_train)\r\n",
        "validation_acc = model.score(X_val, y_val)\r\n",
        "#raise NotImplementedError()\r\n",
        "\r\n",
        "print('Training Accuracy:', training_acc)\r\n",
        "print('Validation Accuracy:', validation_acc)"
      ],
      "execution_count": 143,
      "outputs": [
        {
          "output_type": "stream",
          "text": [
            "Training Accuracy: 0.8298611111111112\n",
            "Validation Accuracy: 0.7927609427609428\n"
          ],
          "name": "stdout"
        }
      ]
    },
    {
      "cell_type": "code",
      "metadata": {
        "id": "g72HOpmCOUi_"
      },
      "source": [
        "'''Task Testing Metrics'''\r\n",
        "\r\n",
        "assert isinstance(training_acc, float)\r\n",
        "assert isinstance(validation_acc, float)\r\n",
        "assert 0.0 <= training_acc <= 1.0\r\n",
        "assert 0.0 <= validation_acc <= 1.0"
      ],
      "execution_count": 144,
      "outputs": []
    },
    {
      "cell_type": "code",
      "metadata": {
        "colab": {
          "base_uri": "https://localhost:8080/",
          "height": 204
        },
        "id": "ihIVBQucQIMt",
        "outputId": "baa7d61c-fe32-44a0-d2c3-cdbf8821e41a"
      },
      "source": [
        "test = pd.read_csv(DATA_PATH + 'waterpumps/test_features.csv')\r\n",
        "# YOUR CODE HERE\r\n",
        "\r\n",
        "X_test = test[features]\r\n",
        "y_pred = model.predict(X_test)\r\n",
        "\r\n",
        "sample_submission = pd.read_csv(DATA_PATH+'waterpumps/sample_submission.csv')\r\n",
        "submission = sample_submission.copy()\r\n",
        "\r\n",
        "#raise NotImplementedError()\r\n",
        "\r\n",
        "submission.head()"
      ],
      "execution_count": 145,
      "outputs": [
        {
          "output_type": "execute_result",
          "data": {
            "text/html": [
              "<div>\n",
              "<style scoped>\n",
              "    .dataframe tbody tr th:only-of-type {\n",
              "        vertical-align: middle;\n",
              "    }\n",
              "\n",
              "    .dataframe tbody tr th {\n",
              "        vertical-align: top;\n",
              "    }\n",
              "\n",
              "    .dataframe thead th {\n",
              "        text-align: right;\n",
              "    }\n",
              "</style>\n",
              "<table border=\"1\" class=\"dataframe\">\n",
              "  <thead>\n",
              "    <tr style=\"text-align: right;\">\n",
              "      <th></th>\n",
              "      <th>id</th>\n",
              "      <th>status_group</th>\n",
              "    </tr>\n",
              "  </thead>\n",
              "  <tbody>\n",
              "    <tr>\n",
              "      <th>0</th>\n",
              "      <td>50785</td>\n",
              "      <td>functional</td>\n",
              "    </tr>\n",
              "    <tr>\n",
              "      <th>1</th>\n",
              "      <td>51630</td>\n",
              "      <td>functional</td>\n",
              "    </tr>\n",
              "    <tr>\n",
              "      <th>2</th>\n",
              "      <td>17168</td>\n",
              "      <td>functional</td>\n",
              "    </tr>\n",
              "    <tr>\n",
              "      <th>3</th>\n",
              "      <td>45559</td>\n",
              "      <td>functional</td>\n",
              "    </tr>\n",
              "    <tr>\n",
              "      <th>4</th>\n",
              "      <td>49871</td>\n",
              "      <td>functional</td>\n",
              "    </tr>\n",
              "  </tbody>\n",
              "</table>\n",
              "</div>"
            ],
            "text/plain": [
              "      id status_group\n",
              "0  50785   functional\n",
              "1  51630   functional\n",
              "2  17168   functional\n",
              "3  45559   functional\n",
              "4  49871   functional"
            ]
          },
          "metadata": {
            "tags": []
          },
          "execution_count": 145
        }
      ]
    },
    {
      "cell_type": "code",
      "metadata": {
        "colab": {
          "base_uri": "https://localhost:8080/"
        },
        "id": "TR-SFSskQiFx",
        "outputId": "96e1bffa-b3c2-436b-b72c-cf3e53ade805"
      },
      "source": [
        "y_train.shape, X_test.shape #Next few asserts do the job of checking shape but it doesn't hurt to check manually"
      ],
      "execution_count": 146,
      "outputs": [
        {
          "output_type": "execute_result",
          "data": {
            "text/plain": [
              "((47520,), (14358, 32))"
            ]
          },
          "metadata": {
            "tags": []
          },
          "execution_count": 146
        }
      ]
    },
    {
      "cell_type": "code",
      "metadata": {
        "colab": {
          "base_uri": "https://localhost:8080/"
        },
        "id": "QjE94HdFQmik",
        "outputId": "5592c8d2-9778-473f-d01a-20dcd76321c7"
      },
      "source": [
        "submission.shape #Same as above"
      ],
      "execution_count": 147,
      "outputs": [
        {
          "output_type": "execute_result",
          "data": {
            "text/plain": [
              "(14358, 2)"
            ]
          },
          "metadata": {
            "tags": []
          },
          "execution_count": 147
        }
      ]
    },
    {
      "cell_type": "code",
      "metadata": {
        "id": "jmC-lxBSQqkZ"
      },
      "source": [
        "'''Task Submission Testing'''\r\n",
        "\r\n",
        "assert isinstance(submission, pd.DataFrame), '`submission` should be a DataFrame.'\r\n",
        "assert len(submission) == 14358, '`submission` should have 14358 rows.'"
      ],
      "execution_count": 148,
      "outputs": []
    },
    {
      "cell_type": "code",
      "metadata": {
        "id": "PeLzTZpIQz3I"
      },
      "source": [
        "# YOUR CODE HERE\r\n",
        "submission['status_group'] = y_pred\r\n",
        "submission.to_csv('1_31_21_jrdspt10.csv', index=False)\r\n",
        "#raise NotImplementedError()"
      ],
      "execution_count": 149,
      "outputs": []
    },
    {
      "cell_type": "markdown",
      "metadata": {
        "id": "D14O1AGmS9Op"
      },
      "source": [
        "# Data Visualization - Stretch Goal - Feature Importance Plot"
      ]
    },
    {
      "cell_type": "code",
      "metadata": {
        "colab": {
          "base_uri": "https://localhost:8080/",
          "height": 320
        },
        "id": "3vp6RHpKTDIc",
        "outputId": "e45a1c20-5df9-4a5f-8d91-87dbe9410aed"
      },
      "source": [
        "%matplotlib inline\r\n",
        "import matplotlib.pyplot as plt\r\n",
        "# YOUR CODE HERE\r\n",
        "#pipeline = model\r\n",
        "n=10\r\n",
        "model = pipeline.named_steps['randomforestclassifier']\r\n",
        "encoder = pipeline.named_steps['ordinalencoder']\r\n",
        "encoded_columns = encoder.transform(X_val).columns\r\n",
        "importances = pd.Series(model.feature_importances_, encoded_columns)\r\n",
        "plt.figure(figsize=(n,5))\r\n",
        "importances.sort_values()[-n:].plot.barh();"
      ],
      "execution_count": 150,
      "outputs": [
        {
          "output_type": "display_data",
          "data": {
            "image/png": "[encoded data removed]",
            "text/plain": [
              "<Figure size 720x360 with 1 Axes>"
            ]
          },
          "metadata": {
            "tags": [],
            "needs_background": "light"
          }
        }
      ]
    }
  ]
}